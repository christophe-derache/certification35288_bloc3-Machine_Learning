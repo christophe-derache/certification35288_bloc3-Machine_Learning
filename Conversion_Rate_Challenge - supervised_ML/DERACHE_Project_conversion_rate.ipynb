{
 "cells": [
  {
   "attachments": {},
   "cell_type": "markdown",
   "metadata": {},
   "source": [
    "## Supervised Machine Learning - Conversion Rate Challenge"
   ]
  },
  {
   "cell_type": "code",
   "execution_count": 1,
   "metadata": {},
   "outputs": [],
   "source": [
    "import pandas as pd\n",
    "import numpy as np\n",
    "\n",
    "# models to test\n",
    "from sklearn.ensemble import GradientBoostingClassifier, RandomForestClassifier\n",
    "from sklearn.ensemble import BaggingClassifier, AdaBoostClassifier, GradientBoostingClassifier\n",
    "from sklearn.linear_model import LogisticRegression\n",
    "from sklearn.tree import DecisionTreeClassifier\n",
    "# metrics and tools\n",
    "from sklearn.model_selection import train_test_split\n",
    "from sklearn.pipeline import Pipeline\n",
    "from sklearn.impute import SimpleImputer\n",
    "from sklearn.preprocessing import  OneHotEncoder, StandardScaler\n",
    "from sklearn.compose import ColumnTransformer\n",
    "from sklearn.metrics import f1_score, confusion_matrix\n",
    "from sklearn.metrics import accuracy_score, f1_score, ConfusionMatrixDisplay\n",
    "from sklearn.utils.class_weight import compute_class_weight\n",
    "from sklearn.model_selection import GridSearchCV\n",
    "# plot lib\n",
    "from matplotlib import pyplot as plt\n",
    "import plotly.express as px\n",
    "import seaborn as sns\n",
    "import plotly.graph_objects as go\n",
    "# warnings handling\n",
    "import warnings\n",
    "warnings.simplefilter(action='ignore', category=FutureWarning)\n",
    "warnings.filterwarnings(\"ignore\", category=DeprecationWarning) # to avoid deprecation warnings"
   ]
  },
  {
   "cell_type": "code",
   "execution_count": 2,
   "metadata": {},
   "outputs": [],
   "source": [
    "df = pd.read_csv('src/conversion_data_train.csv')"
   ]
  },
  {
   "cell_type": "code",
   "execution_count": 3,
   "metadata": {},
   "outputs": [
    {
     "data": {
      "text/plain": [
       "(284580, 6)"
      ]
     },
     "execution_count": 3,
     "metadata": {},
     "output_type": "execute_result"
    }
   ],
   "source": [
    "df.shape"
   ]
  },
  {
   "cell_type": "code",
   "execution_count": 4,
   "metadata": {},
   "outputs": [
    {
     "data": {
      "text/html": [
       "<div>\n",
       "<style scoped>\n",
       "    .dataframe tbody tr th:only-of-type {\n",
       "        vertical-align: middle;\n",
       "    }\n",
       "\n",
       "    .dataframe tbody tr th {\n",
       "        vertical-align: top;\n",
       "    }\n",
       "\n",
       "    .dataframe thead th {\n",
       "        text-align: right;\n",
       "    }\n",
       "</style>\n",
       "<table border=\"1\" class=\"dataframe\">\n",
       "  <thead>\n",
       "    <tr style=\"text-align: right;\">\n",
       "      <th></th>\n",
       "      <th>country</th>\n",
       "      <th>age</th>\n",
       "      <th>new_user</th>\n",
       "      <th>source</th>\n",
       "      <th>total_pages_visited</th>\n",
       "      <th>converted</th>\n",
       "    </tr>\n",
       "  </thead>\n",
       "  <tbody>\n",
       "    <tr>\n",
       "      <th>0</th>\n",
       "      <td>China</td>\n",
       "      <td>22</td>\n",
       "      <td>1</td>\n",
       "      <td>Direct</td>\n",
       "      <td>2</td>\n",
       "      <td>0</td>\n",
       "    </tr>\n",
       "    <tr>\n",
       "      <th>1</th>\n",
       "      <td>UK</td>\n",
       "      <td>21</td>\n",
       "      <td>1</td>\n",
       "      <td>Ads</td>\n",
       "      <td>3</td>\n",
       "      <td>0</td>\n",
       "    </tr>\n",
       "    <tr>\n",
       "      <th>2</th>\n",
       "      <td>Germany</td>\n",
       "      <td>20</td>\n",
       "      <td>0</td>\n",
       "      <td>Seo</td>\n",
       "      <td>14</td>\n",
       "      <td>1</td>\n",
       "    </tr>\n",
       "    <tr>\n",
       "      <th>3</th>\n",
       "      <td>US</td>\n",
       "      <td>23</td>\n",
       "      <td>1</td>\n",
       "      <td>Seo</td>\n",
       "      <td>3</td>\n",
       "      <td>0</td>\n",
       "    </tr>\n",
       "    <tr>\n",
       "      <th>4</th>\n",
       "      <td>US</td>\n",
       "      <td>28</td>\n",
       "      <td>1</td>\n",
       "      <td>Direct</td>\n",
       "      <td>3</td>\n",
       "      <td>0</td>\n",
       "    </tr>\n",
       "  </tbody>\n",
       "</table>\n",
       "</div>"
      ],
      "text/plain": [
       "   country  age  new_user  source  total_pages_visited  converted\n",
       "0    China   22         1  Direct                    2          0\n",
       "1       UK   21         1     Ads                    3          0\n",
       "2  Germany   20         0     Seo                   14          1\n",
       "3       US   23         1     Seo                    3          0\n",
       "4       US   28         1  Direct                    3          0"
      ]
     },
     "execution_count": 4,
     "metadata": {},
     "output_type": "execute_result"
    }
   ],
   "source": [
    "df.head()"
   ]
  },
  {
   "cell_type": "code",
   "execution_count": 5,
   "metadata": {},
   "outputs": [
    {
     "data": {
      "text/html": [
       "<div>\n",
       "<style scoped>\n",
       "    .dataframe tbody tr th:only-of-type {\n",
       "        vertical-align: middle;\n",
       "    }\n",
       "\n",
       "    .dataframe tbody tr th {\n",
       "        vertical-align: top;\n",
       "    }\n",
       "\n",
       "    .dataframe thead th {\n",
       "        text-align: right;\n",
       "    }\n",
       "</style>\n",
       "<table border=\"1\" class=\"dataframe\">\n",
       "  <thead>\n",
       "    <tr style=\"text-align: right;\">\n",
       "      <th></th>\n",
       "      <th>age</th>\n",
       "      <th>new_user</th>\n",
       "      <th>total_pages_visited</th>\n",
       "      <th>converted</th>\n",
       "    </tr>\n",
       "  </thead>\n",
       "  <tbody>\n",
       "    <tr>\n",
       "      <th>count</th>\n",
       "      <td>284580.000000</td>\n",
       "      <td>284580.000000</td>\n",
       "      <td>284580.000000</td>\n",
       "      <td>284580.000000</td>\n",
       "    </tr>\n",
       "    <tr>\n",
       "      <th>mean</th>\n",
       "      <td>30.564203</td>\n",
       "      <td>0.685452</td>\n",
       "      <td>4.873252</td>\n",
       "      <td>0.032258</td>\n",
       "    </tr>\n",
       "    <tr>\n",
       "      <th>std</th>\n",
       "      <td>8.266789</td>\n",
       "      <td>0.464336</td>\n",
       "      <td>3.341995</td>\n",
       "      <td>0.176685</td>\n",
       "    </tr>\n",
       "    <tr>\n",
       "      <th>min</th>\n",
       "      <td>17.000000</td>\n",
       "      <td>0.000000</td>\n",
       "      <td>1.000000</td>\n",
       "      <td>0.000000</td>\n",
       "    </tr>\n",
       "    <tr>\n",
       "      <th>25%</th>\n",
       "      <td>24.000000</td>\n",
       "      <td>0.000000</td>\n",
       "      <td>2.000000</td>\n",
       "      <td>0.000000</td>\n",
       "    </tr>\n",
       "    <tr>\n",
       "      <th>50%</th>\n",
       "      <td>30.000000</td>\n",
       "      <td>1.000000</td>\n",
       "      <td>4.000000</td>\n",
       "      <td>0.000000</td>\n",
       "    </tr>\n",
       "    <tr>\n",
       "      <th>75%</th>\n",
       "      <td>36.000000</td>\n",
       "      <td>1.000000</td>\n",
       "      <td>7.000000</td>\n",
       "      <td>0.000000</td>\n",
       "    </tr>\n",
       "    <tr>\n",
       "      <th>max</th>\n",
       "      <td>123.000000</td>\n",
       "      <td>1.000000</td>\n",
       "      <td>29.000000</td>\n",
       "      <td>1.000000</td>\n",
       "    </tr>\n",
       "  </tbody>\n",
       "</table>\n",
       "</div>"
      ],
      "text/plain": [
       "                 age       new_user  total_pages_visited      converted\n",
       "count  284580.000000  284580.000000        284580.000000  284580.000000\n",
       "mean       30.564203       0.685452             4.873252       0.032258\n",
       "std         8.266789       0.464336             3.341995       0.176685\n",
       "min        17.000000       0.000000             1.000000       0.000000\n",
       "25%        24.000000       0.000000             2.000000       0.000000\n",
       "50%        30.000000       1.000000             4.000000       0.000000\n",
       "75%        36.000000       1.000000             7.000000       0.000000\n",
       "max       123.000000       1.000000            29.000000       1.000000"
      ]
     },
     "execution_count": 5,
     "metadata": {},
     "output_type": "execute_result"
    }
   ],
   "source": [
    "df.describe()"
   ]
  },
  {
   "cell_type": "code",
   "execution_count": 6,
   "metadata": {},
   "outputs": [
    {
     "name": "stdout",
     "output_type": "stream",
     "text": [
      "Number of rows : 284580\n",
      "\n",
      "Basics infos: \n",
      "<class 'pandas.core.frame.DataFrame'>\n",
      "RangeIndex: 284580 entries, 0 to 284579\n",
      "Data columns (total 6 columns):\n",
      " #   Column               Non-Null Count   Dtype \n",
      "---  ------               --------------   ----- \n",
      " 0   country              284580 non-null  object\n",
      " 1   age                  284580 non-null  int64 \n",
      " 2   new_user             284580 non-null  int64 \n",
      " 3   source               284580 non-null  object\n",
      " 4   total_pages_visited  284580 non-null  int64 \n",
      " 5   converted            284580 non-null  int64 \n",
      "dtypes: int64(4), object(2)\n",
      "memory usage: 13.0+ MB\n"
     ]
    },
    {
     "data": {
      "text/plain": [
       "None"
      ]
     },
     "metadata": {},
     "output_type": "display_data"
    },
    {
     "name": "stdout",
     "output_type": "stream",
     "text": [
      "\n",
      "Percentage of missing values: \n"
     ]
    },
    {
     "data": {
      "text/plain": [
       "country                0.0\n",
       "age                    0.0\n",
       "new_user               0.0\n",
       "source                 0.0\n",
       "total_pages_visited    0.0\n",
       "converted              0.0\n",
       "dtype: float64"
      ]
     },
     "metadata": {},
     "output_type": "display_data"
    }
   ],
   "source": [
    "# Basic stats\n",
    "print(\"Number of rows : {}\".format(df.shape[0]))\n",
    "print()\n",
    "\n",
    "print(\"Basics infos: \")\n",
    "data_desc = df.info()\n",
    "display(data_desc)\n",
    "print()\n",
    "\n",
    "print(\"Percentage of missing values: \")\n",
    "display(100*df.isnull().sum()/df.shape[0])"
   ]
  },
  {
   "cell_type": "code",
   "execution_count": 7,
   "metadata": {},
   "outputs": [
    {
     "name": "stdout",
     "output_type": "stream",
     "text": [
      "Correlation Heatmap\n",
      "\n"
     ]
    },
    {
     "data": {
      "image/png": "[encoded data removed]",
      "text/plain": [
       "<Figure size 504x360 with 2 Axes>"
      ]
     },
     "metadata": {
      "needs_background": "light"
     },
     "output_type": "display_data"
    }
   ],
   "source": [
    "def get_correlation_info(df, size=(7, 5)):\n",
    "    print(\"Correlation Heatmap\")\n",
    "    print()\n",
    "    plt.figure(figsize=size)\n",
    "    sns.heatmap(df.corr(), annot=True, vmin=-0.5, vmax=1)\n",
    "    plt.show()\n",
    "\n",
    "get_correlation_info(df)"
   ]
  },
  {
   "cell_type": "markdown",
   "metadata": {},
   "source": [
    "## DATA CLEANING"
   ]
  },
  {
   "cell_type": "code",
   "execution_count": 8,
   "metadata": {},
   "outputs": [
    {
     "data": {
      "image/png": "[encoded data removed]",
      "text/plain": [
       "<Figure size 720x576 with 4 Axes>"
      ]
     },
     "metadata": {
      "needs_background": "light"
     },
     "output_type": "display_data"
    }
   ],
   "source": [
    "list_to_plot = df.drop(columns=['country','source'], axis=1)\n",
    "\n",
    "a = 3  # number of rows\n",
    "b = 3  # number of columns\n",
    "c = 1  # initialize plot counter\n",
    "\n",
    "fig = plt.figure(figsize=(10,8))\n",
    "\n",
    "for i in list_to_plot:\n",
    "    plt.subplot(a, b, c)\n",
    "    plt.title('{}, subplot: {},{},{}'.format(i, a, b, c))\n",
    "    plt.xlabel(i)\n",
    "    sns.boxplot(x=df[i])\n",
    "    c = c + 1\n",
    "\n",
    "plt.tight_layout()\n",
    "plt.show()"
   ]
  },
  {
   "cell_type": "code",
   "execution_count": 9,
   "metadata": {},
   "outputs": [
    {
     "data": {
      "image/png": "[encoded data removed]",
      "text/plain": [
       "<Figure size 720x576 with 4 Axes>"
      ]
     },
     "metadata": {
      "needs_background": "light"
     },
     "output_type": "display_data"
    }
   ],
   "source": [
    "\n",
    "a = 3  # number of rows\n",
    "b = 3  # number of columns\n",
    "c = 1  # initialize plot counter\n",
    "\n",
    "fig = plt.figure(figsize=(10,8))\n",
    "\n",
    "for i in list_to_plot:\n",
    "    plt.subplot(a, b, c)\n",
    "    plt.title('{}, subplot: {},{},{}'.format(i, a, b, c))\n",
    "    plt.xlabel(i)\n",
    "    sns.histplot(df[i])\n",
    "    c = c + 1\n",
    "\n",
    "plt.tight_layout()\n",
    "plt.show()"
   ]
  },
  {
   "cell_type": "code",
   "execution_count": 10,
   "metadata": {},
   "outputs": [
    {
     "name": "stdout",
     "output_type": "stream",
     "text": [
      "(284580, 6)\n",
      "(283563, 6)\n"
     ]
    }
   ],
   "source": [
    "print(df.shape)\n",
    "age_std = df['age'].std()\n",
    "age_mean = df['age'].mean()\n",
    "mask = df['age'].abs() < (age_mean + (3 * age_std))\n",
    "df = df.loc[mask,:]\n",
    "print(df.shape)"
   ]
  },
  {
   "cell_type": "code",
   "execution_count": 11,
   "metadata": {},
   "outputs": [
    {
     "data": {
      "image/png": "[encoded data removed]",
      "text/plain": [
       "<Figure size 720x576 with 4 Axes>"
      ]
     },
     "metadata": {
      "needs_background": "light"
     },
     "output_type": "display_data"
    }
   ],
   "source": [
    "list_to_plot = df.drop(columns=['country','source'], axis=1)\n",
    "\n",
    "a = 3  # number of rows\n",
    "b = 3  # number of columns\n",
    "c = 1  # initialize plot counter\n",
    "\n",
    "fig = plt.figure(figsize=(10,8))\n",
    "\n",
    "for i in list_to_plot:\n",
    "    plt.subplot(a, b, c)\n",
    "    plt.title('{}, subplot: {},{},{}'.format(i, a, b, c))\n",
    "    plt.xlabel(i)\n",
    "    sns.boxplot(x=df[i])\n",
    "    c = c + 1\n",
    "\n",
    "plt.tight_layout()\n",
    "plt.show()"
   ]
  },
  {
   "cell_type": "code",
   "execution_count": 12,
   "metadata": {},
   "outputs": [
    {
     "name": "stdout",
     "output_type": "stream",
     "text": [
      "False    0.967651\n",
      "True     0.032349\n",
      "Name: converted, dtype: float64\n",
      "\n",
      "Here the values from \"converted\" column :\n"
     ]
    },
    {
     "data": {
      "text/plain": [
       "0    274390\n",
       "1      9173\n",
       "Name: converted, dtype: int64"
      ]
     },
     "execution_count": 12,
     "metadata": {},
     "output_type": "execute_result"
    }
   ],
   "source": [
    "percentage_converted = (df['converted'] == 1).value_counts() / df.shape[0]\n",
    "print(percentage_converted)\n",
    "print()\n",
    "print('Here the values from \"converted\" column :')\n",
    "df['converted'].value_counts()"
   ]
  },
  {
   "cell_type": "code",
   "execution_count": 13,
   "metadata": {},
   "outputs": [
    {
     "data": {
      "text/plain": [
       "<AxesSubplot:xlabel='converted', ylabel='Count'>"
      ]
     },
     "execution_count": 13,
     "metadata": {},
     "output_type": "execute_result"
    },
    {
     "data": {
      "image/png": "[encoded data removed]",
      "text/plain": [
       "<Figure size 432x288 with 1 Axes>"
      ]
     },
     "metadata": {
      "needs_background": "light"
     },
     "output_type": "display_data"
    }
   ],
   "source": [
    "sns.histplot(df, x='converted')"
   ]
  },
  {
   "cell_type": "markdown",
   "metadata": {},
   "source": [
    "##### *We notice that the target is significantly imbalanced*"
   ]
  },
  {
   "cell_type": "markdown",
   "metadata": {},
   "source": [
    "## MACHINE LEARNING MODEL"
   ]
  },
  {
   "cell_type": "markdown",
   "metadata": {},
   "source": [
    "### Testing several Machine Learning models on baseline :\n",
    "- on a sample of our Dataframe (100 000 rows)\n",
    "- preprocessing baseline (only 1 feature)\n",
    "- test and comparate several models results on train & test set"
   ]
  },
  {
   "cell_type": "code",
   "execution_count": 14,
   "metadata": {},
   "outputs": [
    {
     "name": "stdout",
     "output_type": "stream",
     "text": [
      "...Done\n"
     ]
    }
   ],
   "source": [
    "df_sample = df.sample(100000)\n",
    "\n",
    "num_features_list = ['total_pages_visited']\n",
    "cat_features_list = []\n",
    "features_list = [cat_features_list + num_features_list][0]\n",
    "\n",
    "target_variable = 'converted'\n",
    "\n",
    "X = df_sample.loc[:, features_list]\n",
    "Y = df_sample.loc[:, target_variable]\n",
    "\n",
    "\n",
    "# Create pipeline for numeric features\n",
    "preprocessor = StandardScaler()\n",
    "\n",
    "# Divide dataset Train set & Test set \n",
    "\n",
    "X_train, X_test, Y_train, Y_test = train_test_split(X, Y, test_size=0.1, random_state=0, \\\n",
    "                                                    stratify=Y)\n",
    "#featureencoder = StandardScaler()\n",
    "X_train = preprocessor.fit_transform(X_train)\n",
    "X_test = preprocessor.transform(X_test)\n",
    "print(\"...Done\")\n"
   ]
  },
  {
   "cell_type": "code",
   "execution_count": 15,
   "metadata": {},
   "outputs": [],
   "source": [
    "classifier_lr = LogisticRegression(max_iter = 1000, class_weight='balanced')                                            \n",
    "classifier_dt = DecisionTreeClassifier(class_weight='balanced')                                   \n",
    "classifier_rfc = RandomForestClassifier(class_weight='balanced')                                       \n",
    "classifier_adab = AdaBoostClassifier()                                                          \n",
    "classifier_grad = GradientBoostingClassifier()                  \n",
    "\n",
    "list_models = [classifier_lr, classifier_dt, classifier_rfc, classifier_adab, classifier_grad]"
   ]
  },
  {
   "cell_type": "code",
   "execution_count": 16,
   "metadata": {},
   "outputs": [
    {
     "name": "stdout",
     "output_type": "stream",
     "text": [
      "\n",
      "f1-score de LogisticRegression on train set :  0.49\n",
      "f1-score de LogisticRegression on test set :  0.48\n",
      "\n",
      "f1-score de DecisionTreeClassifier on train set :  0.39\n",
      "f1-score de DecisionTreeClassifier on test set :  0.38\n",
      "\n",
      "f1-score de RandomForestClassifier on train set :  0.39\n",
      "f1-score de RandomForestClassifier on test set :  0.38\n",
      "\n",
      "f1-score de AdaBoostClassifier on train set :  0.7\n",
      "f1-score de AdaBoostClassifier on test set :  0.68\n",
      "\n",
      "f1-score de GradientBoostingClassifier on train set :  0.7\n",
      "f1-score de GradientBoostingClassifier on test set :  0.68\n"
     ]
    },
    {
     "data": {
      "text/html": [
       "<div>\n",
       "<style scoped>\n",
       "    .dataframe tbody tr th:only-of-type {\n",
       "        vertical-align: middle;\n",
       "    }\n",
       "\n",
       "    .dataframe tbody tr th {\n",
       "        vertical-align: top;\n",
       "    }\n",
       "\n",
       "    .dataframe thead th {\n",
       "        text-align: right;\n",
       "    }\n",
       "</style>\n",
       "<table border=\"1\" class=\"dataframe\">\n",
       "  <thead>\n",
       "    <tr style=\"text-align: right;\">\n",
       "      <th></th>\n",
       "      <th>model</th>\n",
       "      <th>f1_score_train</th>\n",
       "      <th>f1_score_test</th>\n",
       "    </tr>\n",
       "  </thead>\n",
       "  <tbody>\n",
       "    <tr>\n",
       "      <th>3</th>\n",
       "      <td>AdaBoostClassifier</td>\n",
       "      <td>0.70</td>\n",
       "      <td>0.68</td>\n",
       "    </tr>\n",
       "    <tr>\n",
       "      <th>4</th>\n",
       "      <td>GradientBoostingClassifier</td>\n",
       "      <td>0.70</td>\n",
       "      <td>0.68</td>\n",
       "    </tr>\n",
       "    <tr>\n",
       "      <th>0</th>\n",
       "      <td>LogisticRegression</td>\n",
       "      <td>0.49</td>\n",
       "      <td>0.48</td>\n",
       "    </tr>\n",
       "    <tr>\n",
       "      <th>1</th>\n",
       "      <td>DecisionTreeClassifier</td>\n",
       "      <td>0.39</td>\n",
       "      <td>0.38</td>\n",
       "    </tr>\n",
       "    <tr>\n",
       "      <th>2</th>\n",
       "      <td>RandomForestClassifier</td>\n",
       "      <td>0.39</td>\n",
       "      <td>0.38</td>\n",
       "    </tr>\n",
       "  </tbody>\n",
       "</table>\n",
       "</div>"
      ],
      "text/plain": [
       "                        model  f1_score_train  f1_score_test\n",
       "3          AdaBoostClassifier            0.70           0.68\n",
       "4  GradientBoostingClassifier            0.70           0.68\n",
       "0          LogisticRegression            0.49           0.48\n",
       "1      DecisionTreeClassifier            0.39           0.38\n",
       "2      RandomForestClassifier            0.39           0.38"
      ]
     },
     "execution_count": 16,
     "metadata": {},
     "output_type": "execute_result"
    }
   ],
   "source": [
    "scores_df = pd.DataFrame(columns = ['model', 'f1_score_train', 'f1_score_test'])\n",
    "scores_df.index = scores_df.index + 1\n",
    "\n",
    "for model in list_models:\n",
    "    classifier = model\n",
    "    name_model = str(classifier.__class__).split(\".\")[-1][:-2]\n",
    "    classifier.fit(X_train, Y_train)\n",
    "    Y_train_pred = classifier.predict(X_train)\n",
    "    Y_test_pred = classifier.predict(X_test)\n",
    "    print()\n",
    "    print(f\"f1-score de {name_model} on train set : \", f1_score(Y_train, Y_train_pred).round(2))\n",
    "    print(f\"f1-score de {name_model} on test set : \", f1_score(Y_test, Y_test_pred).round(2))\n",
    "    scores_df = scores_df.append({'model': name_model, \\\n",
    "    'f1_score_train': f1_score(Y_train, Y_train_pred).round(2), \\\n",
    "    'f1_score_test': f1_score(Y_test, Y_test_pred).round(2)}, ignore_index = True)\n",
    "\n",
    "scores_df = scores_df.sort_values(by='f1_score_test', ascending=False)\n",
    "scores_df.head(10)"
   ]
  },
  {
   "cell_type": "markdown",
   "metadata": {},
   "source": [
    "### According to these results, we'll continue our project with 2 models:\n",
    "- GradientBoostingClassifier\n",
    "- AdaBoostClassifier"
   ]
  },
  {
   "cell_type": "markdown",
   "metadata": {},
   "source": [
    "#### Gridsearch on : GradientBoostingClassifier"
   ]
  },
  {
   "cell_type": "code",
   "execution_count": 17,
   "metadata": {},
   "outputs": [
    {
     "name": "stdout",
     "output_type": "stream",
     "text": [
      "Grid search...\n",
      "{'loss': ['log_loss'], 'n_estimators': [200], 'criterion': ['friedman_mse'], 'learning_rate': [0.1], 'min_samples_split': [3]}\n",
      "...Done.\n",
      "Best hyperparameters :  {'criterion': 'friedman_mse', 'learning_rate': 0.1, 'loss': 'log_loss', 'min_samples_split': 3, 'n_estimators': 200}\n",
      "Best validation accuracy :  0.9831666666666667\n",
      "\n",
      "Accuracy on training set :  0.9831666666666666\n",
      "Accuracy on test set :  0.9821\n",
      "\n"
     ]
    }
   ],
   "source": [
    "# Perform grid search\n",
    "print(\"Grid search...\")\n",
    "\n",
    "model = GradientBoostingClassifier()   \n",
    "# Grid of values to be tested\n",
    "params = {\n",
    "    'loss' : ['log_loss'], \n",
    "    'n_estimators': [200],\n",
    "    'criterion' : ['friedman_mse'],\n",
    "    'learning_rate':[0.1],\n",
    "    'min_samples_split':[3]\n",
    "\n",
    "}\n",
    "print(params)\n",
    "gridsearch = GridSearchCV(model, param_grid = params, cv=5) # cv : the number of folds to be used for CV\n",
    "gridsearch.fit(X_train, Y_train)\n",
    "print(\"...Done.\")\n",
    "print(\"Best hyperparameters : \", gridsearch.best_params_)\n",
    "print(\"Best validation accuracy : \", gridsearch.best_score_)\n",
    "print()\n",
    "print(\"Accuracy on training set : \", gridsearch.score(X_train, Y_train))\n",
    "print(\"Accuracy on test set : \", gridsearch.score(X_test, Y_test))\n",
    "print()"
   ]
  },
  {
   "cell_type": "markdown",
   "metadata": {},
   "source": [
    "##### Quick test with GradientBoosingClassifier and his best hyperparameters :\n",
    "- with only 1 feature\n",
    "- On the sample of the dataset"
   ]
  },
  {
   "cell_type": "code",
   "execution_count": 18,
   "metadata": {},
   "outputs": [
    {
     "name": "stdout",
     "output_type": "stream",
     "text": [
      "\n",
      "f1-score de GradientBoostingClassifier on train set :  0.7\n",
      "f1-score de GradientBoostingClassifier on test set :  0.68\n"
     ]
    }
   ],
   "source": [
    "classifier = GradientBoostingClassifier(n_estimators=200, min_samples_split=3)\n",
    "classifier.fit(X_train, Y_train)\n",
    "Y_train_pred = classifier.predict(X_train)\n",
    "Y_test_pred = classifier.predict(X_test)\n",
    "print()\n",
    "print(f\"f1-score de GradientBoostingClassifier on train set : \", f1_score(Y_train, Y_train_pred).round(2))\n",
    "print(f\"f1-score de GradientBoostingClassifier on test set : \", f1_score(Y_test, Y_test_pred).round(2))"
   ]
  },
  {
   "cell_type": "markdown",
   "metadata": {},
   "source": [
    "#### Gridsearch on : AdaBoostClassifier"
   ]
  },
  {
   "cell_type": "code",
   "execution_count": 19,
   "metadata": {},
   "outputs": [
    {
     "name": "stdout",
     "output_type": "stream",
     "text": [
      "Grid search...\n",
      "{'n_estimators': [135], 'algorithm': ['SAMME'], 'learning_rate': [0.005], 'random_state': [35]}\n",
      "...Done.\n",
      "Best hyperparameters :  {'algorithm': 'SAMME', 'learning_rate': 0.005, 'n_estimators': 135, 'random_state': 35}\n",
      "Best validation accuracy :  0.9831666666666667\n",
      "\n",
      "Accuracy on training set :  0.9831666666666666\n",
      "Accuracy on test set :  0.9821\n",
      "\n"
     ]
    }
   ],
   "source": [
    "# Perform grid search\n",
    "print(\"Grid search...\")\n",
    "model = AdaBoostClassifier()   \n",
    "# Grid of values to be tested\n",
    "params = {\n",
    "    'n_estimators': [135],\n",
    "    'algorithm' : ['SAMME'],\n",
    "    'learning_rate':[0.005],\n",
    "    'random_state' : [35]\n",
    "}\n",
    "print(params)\n",
    "gridsearch = GridSearchCV(model, param_grid = params, cv=5) # cv : the number of folds to be used for CV\n",
    "gridsearch.fit(X_train, Y_train)\n",
    "print(\"...Done.\")\n",
    "print(\"Best hyperparameters : \", gridsearch.best_params_)\n",
    "print(\"Best validation accuracy : \", gridsearch.best_score_)\n",
    "print()\n",
    "print(\"Accuracy on training set : \", gridsearch.score(X_train, Y_train))\n",
    "print(\"Accuracy on test set : \", gridsearch.score(X_test, Y_test))\n",
    "print()"
   ]
  },
  {
   "cell_type": "markdown",
   "metadata": {},
   "source": [
    "##### Quick test with AdaBoostClassifier and his best hyperparameters :\n",
    "- with only 1 feature\n",
    "- On the sample of the dataset"
   ]
  },
  {
   "cell_type": "code",
   "execution_count": 20,
   "metadata": {},
   "outputs": [
    {
     "name": "stdout",
     "output_type": "stream",
     "text": [
      "\n",
      "f1-score de AdaBoostClassifier on train set :  0.7\n",
      "f1-score de AdaBoostClassifier on test set :  0.68\n"
     ]
    }
   ],
   "source": [
    "classifier = AdaBoostClassifier(algorithm='SAMME', n_estimators=135, learning_rate=0.005, random_state=35)\n",
    "classifier.fit(X_train, Y_train)\n",
    "Y_train_pred = classifier.predict(X_train)\n",
    "Y_test_pred = classifier.predict(X_test)\n",
    "print()\n",
    "print(f\"f1-score de AdaBoostClassifier on train set : \", f1_score(Y_train, Y_train_pred).round(2))\n",
    "print(f\"f1-score de AdaBoostClassifier on test set : \", f1_score(Y_test, Y_test_pred).round(2))"
   ]
  },
  {
   "cell_type": "markdown",
   "metadata": {},
   "source": [
    "### FEATURE ENGINEERING"
   ]
  },
  {
   "cell_type": "code",
   "execution_count": 21,
   "metadata": {},
   "outputs": [],
   "source": [
    "df['age_X_total_pages_visit'] = df['age'] * df['total_pages_visited']"
   ]
  },
  {
   "cell_type": "code",
   "execution_count": 22,
   "metadata": {},
   "outputs": [
    {
     "data": {
      "text/html": [
       "<div>\n",
       "<style scoped>\n",
       "    .dataframe tbody tr th:only-of-type {\n",
       "        vertical-align: middle;\n",
       "    }\n",
       "\n",
       "    .dataframe tbody tr th {\n",
       "        vertical-align: top;\n",
       "    }\n",
       "\n",
       "    .dataframe thead th {\n",
       "        text-align: right;\n",
       "    }\n",
       "</style>\n",
       "<table border=\"1\" class=\"dataframe\">\n",
       "  <thead>\n",
       "    <tr style=\"text-align: right;\">\n",
       "      <th></th>\n",
       "      <th>country</th>\n",
       "      <th>age</th>\n",
       "      <th>new_user</th>\n",
       "      <th>source</th>\n",
       "      <th>total_pages_visited</th>\n",
       "      <th>converted</th>\n",
       "      <th>age_X_total_pages_visit</th>\n",
       "    </tr>\n",
       "  </thead>\n",
       "  <tbody>\n",
       "    <tr>\n",
       "      <th>0</th>\n",
       "      <td>China</td>\n",
       "      <td>22</td>\n",
       "      <td>1</td>\n",
       "      <td>Direct</td>\n",
       "      <td>2</td>\n",
       "      <td>0</td>\n",
       "      <td>44</td>\n",
       "    </tr>\n",
       "    <tr>\n",
       "      <th>1</th>\n",
       "      <td>UK</td>\n",
       "      <td>21</td>\n",
       "      <td>1</td>\n",
       "      <td>Ads</td>\n",
       "      <td>3</td>\n",
       "      <td>0</td>\n",
       "      <td>63</td>\n",
       "    </tr>\n",
       "    <tr>\n",
       "      <th>2</th>\n",
       "      <td>Germany</td>\n",
       "      <td>20</td>\n",
       "      <td>0</td>\n",
       "      <td>Seo</td>\n",
       "      <td>14</td>\n",
       "      <td>1</td>\n",
       "      <td>280</td>\n",
       "    </tr>\n",
       "    <tr>\n",
       "      <th>3</th>\n",
       "      <td>US</td>\n",
       "      <td>23</td>\n",
       "      <td>1</td>\n",
       "      <td>Seo</td>\n",
       "      <td>3</td>\n",
       "      <td>0</td>\n",
       "      <td>69</td>\n",
       "    </tr>\n",
       "    <tr>\n",
       "      <th>4</th>\n",
       "      <td>US</td>\n",
       "      <td>28</td>\n",
       "      <td>1</td>\n",
       "      <td>Direct</td>\n",
       "      <td>3</td>\n",
       "      <td>0</td>\n",
       "      <td>84</td>\n",
       "    </tr>\n",
       "  </tbody>\n",
       "</table>\n",
       "</div>"
      ],
      "text/plain": [
       "   country  age  new_user  source  total_pages_visited  converted  \\\n",
       "0    China   22         1  Direct                    2          0   \n",
       "1       UK   21         1     Ads                    3          0   \n",
       "2  Germany   20         0     Seo                   14          1   \n",
       "3       US   23         1     Seo                    3          0   \n",
       "4       US   28         1  Direct                    3          0   \n",
       "\n",
       "   age_X_total_pages_visit  \n",
       "0                       44  \n",
       "1                       63  \n",
       "2                      280  \n",
       "3                       69  \n",
       "4                       84  "
      ]
     },
     "execution_count": 22,
     "metadata": {},
     "output_type": "execute_result"
    }
   ],
   "source": [
    "df.head(5)"
   ]
  },
  {
   "cell_type": "code",
   "execution_count": 23,
   "metadata": {},
   "outputs": [
    {
     "data": {
      "text/plain": [
       "Index(['country', 'age', 'new_user', 'source', 'total_pages_visited',\n",
       "       'converted', 'age_X_total_pages_visit'],\n",
       "      dtype='object')"
      ]
     },
     "execution_count": 23,
     "metadata": {},
     "output_type": "execute_result"
    }
   ],
   "source": [
    "df.columns"
   ]
  },
  {
   "cell_type": "markdown",
   "metadata": {},
   "source": [
    "### Preprocessing before **training** and **testing** our 2 models"
   ]
  },
  {
   "cell_type": "code",
   "execution_count": 24,
   "metadata": {},
   "outputs": [],
   "source": [
    "cat_features_list = ['country', 'new_user', 'source']\n",
    "num_features_list = [\n",
    "                    'age', \n",
    "                    'total_pages_visited', \n",
    "                     'age_X_total_pages_visit'\n",
    "                    ]\n",
    "\n",
    "features_list = [cat_features_list + num_features_list][0]\n",
    "\n",
    "target_variable = 'converted'"
   ]
  },
  {
   "cell_type": "code",
   "execution_count": 25,
   "metadata": {},
   "outputs": [
    {
     "name": "stdout",
     "output_type": "stream",
     "text": [
      "Explanatory variables :  Index(['country', 'new_user', 'source', 'age', 'total_pages_visited',\n",
      "       'age_X_total_pages_visit'],\n",
      "      dtype='object')\n",
      "\n"
     ]
    }
   ],
   "source": [
    "X = df.loc[:, features_list]\n",
    "Y = df.loc[:, target_variable]\n",
    "\n",
    "print('Explanatory variables : ', X.columns)\n",
    "print()"
   ]
  },
  {
   "cell_type": "code",
   "execution_count": 26,
   "metadata": {},
   "outputs": [],
   "source": [
    "# Create pipeline for categorical features\n",
    "categorical_features = cat_features_list # Names of categorical columns in X_train/X_test\n",
    "categorical_transformer = Pipeline(\n",
    "    steps=[\n",
    "   # ('imputer', SimpleImputer(strategy='most_frequent')), # missing values will be replaced by most frequent value\n",
    "    ('encoder', OneHotEncoder(drop='first')) # first column will be dropped to avoid creating correlations between features\n",
    "    ])\n"
   ]
  },
  {
   "cell_type": "code",
   "execution_count": 27,
   "metadata": {},
   "outputs": [],
   "source": [
    "# Create pipeline for numeric features\n",
    "numeric_features = num_features_list # Names of numeric columns in X_train/X_test\n",
    "numeric_transformer = Pipeline(steps=[\n",
    "    #('imputer', SimpleImputer(strategy='median')), # missing values will be replaced by columns' median\n",
    "    ('scaler', StandardScaler())\n",
    "])\n"
   ]
  },
  {
   "cell_type": "code",
   "execution_count": 28,
   "metadata": {},
   "outputs": [],
   "source": [
    "preprocessor = ColumnTransformer(\n",
    "    transformers=[\n",
    "        ('num', numeric_transformer, numeric_features),\n",
    "        ('cat', categorical_transformer, categorical_features)\n",
    "    ])"
   ]
  },
  {
   "cell_type": "code",
   "execution_count": 29,
   "metadata": {},
   "outputs": [
    {
     "name": "stdout",
     "output_type": "stream",
     "text": [
      "Dividing into train and test sets...\n",
      "...Done.\n",
      "\n"
     ]
    }
   ],
   "source": [
    "# Divide dataset Train set & Test set \n",
    "# 1 set for GradientBoostingClassifier\n",
    "# 1 set for AdaBoostClassifier\n",
    "# 1 set for our last and best model training on all data\n",
    "\n",
    "print(\"Dividing into train and test sets...\")\n",
    "X_train_GRAD, X_test_GRAD, Y_train_GRAD, Y_test_GRAD = train_test_split(X, Y, test_size=0.1, random_state=0, \\\n",
    "                                                    stratify=Y)\n",
    "X_train_ADA, X_test_ADA, Y_train_ADA, Y_test_ADA = train_test_split(X, Y, test_size=0.1, random_state=0, \\\n",
    "                                                    stratify=Y)   \n",
    "X_train, X_test, Y_train, Y_test = train_test_split(X, Y, test_size=0.1, random_state=0, \\\n",
    "                                                    stratify=Y)                                        \n",
    "print(\"...Done.\")\n",
    "print()\n"
   ]
  },
  {
   "cell_type": "code",
   "execution_count": 30,
   "metadata": {},
   "outputs": [
    {
     "name": "stdout",
     "output_type": "stream",
     "text": [
      "Encoding categorical features and standardizing numerical features...\n",
      "...Done\n"
     ]
    }
   ],
   "source": [
    "print(\"Encoding categorical features and standardizing numerical features...\")\n",
    "\n",
    "X_train_GRAD = preprocessor.fit_transform(X_train_GRAD)\n",
    "X_test_GRAD = preprocessor.transform(X_test_GRAD)\n",
    "X_train_ADA = preprocessor.fit_transform(X_train_ADA)\n",
    "X_test_ADA = preprocessor.transform(X_test_ADA)\n",
    "X_train = preprocessor.fit_transform(X_train)\n",
    "X_test = preprocessor.transform(X_test)\n",
    "\n",
    "print(\"...Done\")"
   ]
  },
  {
   "cell_type": "markdown",
   "metadata": {},
   "source": [
    "### Training GradientBoostingClassifier:\n",
    " - With tuned hyperparameters\n",
    " - On all features + feature engineering\n",
    " - On all train set"
   ]
  },
  {
   "cell_type": "markdown",
   "metadata": {},
   "source": [
    "#### Train & Test Pipeline"
   ]
  },
  {
   "cell_type": "code",
   "execution_count": 31,
   "metadata": {},
   "outputs": [
    {
     "name": "stdout",
     "output_type": "stream",
     "text": [
      "Train model...\n",
      "Predictions on training set...\n",
      "...Done.\n",
      "[0 0 0 ... 0 0 0]\n",
      "\n",
      "Predictions on test set...\n",
      "...Done.\n",
      "[0 0 0 ... 0 0 0]\n",
      "[0 1]\n",
      "\n"
     ]
    }
   ],
   "source": [
    "# Train model\n",
    "print(\"Train model...\")\n",
    "\n",
    "classifier = GradientBoostingClassifier(n_estimators=200, min_samples_split=3)\n",
    "classifier.fit(X_train_GRAD, Y_train_GRAD)\n",
    "\n",
    "# Predictions on training set\n",
    "print(\"Predictions on training set...\")\n",
    "Y_train_GRAD_pred = classifier.predict(X_train_GRAD)\n",
    "print(\"...Done.\")\n",
    "print(Y_train_GRAD_pred)\n",
    "print()\n",
    "\n",
    "# Predictions on test set\n",
    "print(\"Predictions on test set...\")\n",
    "Y_test_GRAD_pred = classifier.predict(X_test_GRAD)\n",
    "print(\"...Done.\")\n",
    "print(Y_test_GRAD_pred)\n",
    "print(np.unique(Y_test_GRAD_pred))\n",
    "print()\n"
   ]
  },
  {
   "cell_type": "markdown",
   "metadata": {},
   "source": [
    "#### Performance assessment"
   ]
  },
  {
   "cell_type": "code",
   "execution_count": 32,
   "metadata": {},
   "outputs": [
    {
     "name": "stdout",
     "output_type": "stream",
     "text": [
      "f1-score of GradientBoostingClassifier on train set :  0.768\n",
      "f1-score of GradientBoostingClassifier on test set :  0.753\n"
     ]
    }
   ],
   "source": [
    "# Here, the f1-score will be used to assess the performances on the leaderboard\n",
    "print(\"f1-score of GradientBoostingClassifier on train set : \", f1_score(Y_train_GRAD, Y_train_GRAD_pred).round(3))\n",
    "print(\"f1-score of GradientBoostingClassifier on test set : \", f1_score(Y_test_GRAD, Y_test_GRAD_pred).round(3))"
   ]
  },
  {
   "cell_type": "code",
   "execution_count": 33,
   "metadata": {},
   "outputs": [
    {
     "data": {
      "image/png": "[encoded data removed]",
      "text/plain": [
       "<Figure size 432x288 with 2 Axes>"
      ]
     },
     "metadata": {
      "needs_background": "light"
     },
     "output_type": "display_data"
    },
    {
     "data": {
      "image/png": "[encoded data removed]",
      "text/plain": [
       "<Figure size 432x288 with 2 Axes>"
      ]
     },
     "metadata": {
      "needs_background": "light"
     },
     "output_type": "display_data"
    }
   ],
   "source": [
    "# Visualize confusion matrices\n",
    "_ , ax = plt.subplots() # Get subplot from matplotlib\n",
    "ax.set(title=\"Confusion Matrix on Train set\") # Set a title that we will add into ConfusionMatrixDisplay\n",
    "ConfusionMatrixDisplay.from_estimator(classifier, X_train_GRAD, Y_train_GRAD, ax=ax) # ConfusionMatrixDisplay from sklearn\n",
    "plt.show()\n",
    "\n",
    "_ , ax = plt.subplots() # Get subplot from matplotlib\n",
    "ax.set(title=\"Confusion Matrix on Test set\") # Set a title that we will add into ConfusionMatrixDisplay\n",
    "ConfusionMatrixDisplay.from_estimator(classifier, X_test_GRAD, Y_test_GRAD, ax=ax) # ConfusionMatrixDisplay from sklearn\n",
    "plt.show()"
   ]
  },
  {
   "cell_type": "markdown",
   "metadata": {},
   "source": [
    "### Training AdaBoostClassifier:\n",
    " - With tuned hyperparameters\n",
    " - On all features + feature engineering\n",
    " - On all train set"
   ]
  },
  {
   "cell_type": "markdown",
   "metadata": {},
   "source": [
    "#### Training & Test Pipeline"
   ]
  },
  {
   "cell_type": "code",
   "execution_count": 34,
   "metadata": {},
   "outputs": [
    {
     "name": "stdout",
     "output_type": "stream",
     "text": [
      "Train model...\n",
      "Predictions on training set...\n",
      "...Done.\n",
      "[0 0 0 ... 0 0 0]\n",
      "\n",
      "Predictions on test set...\n",
      "...Done.\n",
      "[0 0 0 ... 0 0 0]\n",
      "[0 1]\n",
      "\n"
     ]
    }
   ],
   "source": [
    "# Train model\n",
    "print(\"Train model...\")\n",
    "\n",
    "classifier = AdaBoostClassifier(algorithm='SAMME', n_estimators=135, learning_rate=0.005, random_state=35)\n",
    "classifier.fit(X_train_ADA, Y_train_ADA)\n",
    "\n",
    "# Predictions on training set\n",
    "print(\"Predictions on training set...\")\n",
    "Y_train_ADA_pred = classifier.predict(X_train_ADA)\n",
    "print(\"...Done.\")\n",
    "print(Y_train_ADA_pred)\n",
    "print()\n",
    "\n",
    "# Predictions on test set\n",
    "print(\"Predictions on test set...\")\n",
    "Y_test_ADA_pred = classifier.predict(X_test_ADA)\n",
    "print(\"...Done.\")\n",
    "print(Y_test_ADA_pred)\n",
    "print(np.unique(Y_test_ADA_pred))\n",
    "print()\n"
   ]
  },
  {
   "cell_type": "markdown",
   "metadata": {},
   "source": [
    "#### Performance assessment"
   ]
  },
  {
   "cell_type": "code",
   "execution_count": 35,
   "metadata": {},
   "outputs": [
    {
     "name": "stdout",
     "output_type": "stream",
     "text": [
      "f1-score of AdaBoostClassifier on train set :  0.697\n",
      "f1-score of AdaBoostClassifier on test set :  0.679\n"
     ]
    }
   ],
   "source": [
    "# Here, the f1-score will be used to assess the performances on the leaderboard\n",
    "print(\"f1-score of AdaBoostClassifier on train set : \", f1_score(Y_train_ADA, Y_train_ADA_pred).round(3))\n",
    "print(\"f1-score of AdaBoostClassifier on test set : \", f1_score(Y_test_ADA, Y_test_ADA_pred).round(3))"
   ]
  },
  {
   "cell_type": "code",
   "execution_count": 36,
   "metadata": {},
   "outputs": [
    {
     "data": {
      "image/png": "[encoded data removed]",
      "text/plain": [
       "<Figure size 432x288 with 2 Axes>"
      ]
     },
     "metadata": {
      "needs_background": "light"
     },
     "output_type": "display_data"
    },
    {
     "data": {
      "image/png": "[encoded data removed]",
      "text/plain": [
       "<Figure size 432x288 with 2 Axes>"
      ]
     },
     "metadata": {
      "needs_background": "light"
     },
     "output_type": "display_data"
    }
   ],
   "source": [
    "# Visualize confusion matrices\n",
    "_ , ax = plt.subplots() # Get subplot from matplotlib\n",
    "ax.set(title=\"Confusion Matrix on Train set\") # Set a title that we will add into ConfusionMatrixDisplay\n",
    "ConfusionMatrixDisplay.from_estimator(classifier, X_train_ADA, Y_train_ADA, ax=ax) # ConfusionMatrixDisplay from sklearn\n",
    "plt.show()\n",
    "\n",
    "_ , ax = plt.subplots() # Get subplot from matplotlib\n",
    "ax.set(title=\"Confusion Matrix on Test set\") # Set a title that we will add into ConfusionMatrixDisplay\n",
    "ConfusionMatrixDisplay.from_estimator(classifier, X_test_ADA, Y_test_ADA, ax=ax) # ConfusionMatrixDisplay from sklearn\n",
    "plt.show()"
   ]
  },
  {
   "cell_type": "markdown",
   "metadata": {},
   "source": [
    "### Training our best model on all data :  **GradientBoostingClassifier** with:\n",
    " - all features + feature engineering\n",
    " - all train set **X_train + X-test**\n",
    " "
   ]
  },
  {
   "cell_type": "code",
   "execution_count": 37,
   "metadata": {},
   "outputs": [
    {
     "data": {
      "text/html": [
       "<style>#sk-container-id-1 {color: black;background-color: white;}#sk-container-id-1 pre{padding: 0;}#sk-container-id-1 div.sk-toggleable {background-color: white;}#sk-container-id-1 label.sk-toggleable__label {cursor: pointer;display: block;width: 100%;margin-bottom: 0;padding: 0.3em;box-sizing: border-box;text-align: center;}#sk-container-id-1 label.sk-toggleable__label-arrow:before {content: \"▸\";float: left;margin-right: 0.25em;color: #696969;}#sk-container-id-1 label.sk-toggleable__label-arrow:hover:before {color: black;}#sk-container-id-1 div.sk-estimator:hover label.sk-toggleable__label-arrow:before {color: black;}#sk-container-id-1 div.sk-toggleable__content {max-height: 0;max-width: 0;overflow: hidden;text-align: left;background-color: #f0f8ff;}#sk-container-id-1 div.sk-toggleable__content pre {margin: 0.2em;color: black;border-radius: 0.25em;background-color: #f0f8ff;}#sk-container-id-1 input.sk-toggleable__control:checked~div.sk-toggleable__content {max-height: 200px;max-width: 100%;overflow: auto;}#sk-container-id-1 input.sk-toggleable__control:checked~label.sk-toggleable__label-arrow:before {content: \"▾\";}#sk-container-id-1 div.sk-estimator input.sk-toggleable__control:checked~label.sk-toggleable__label {background-color: #d4ebff;}#sk-container-id-1 div.sk-label input.sk-toggleable__control:checked~label.sk-toggleable__label {background-color: #d4ebff;}#sk-container-id-1 input.sk-hidden--visually {border: 0;clip: rect(1px 1px 1px 1px);clip: rect(1px, 1px, 1px, 1px);height: 1px;margin: -1px;overflow: hidden;padding: 0;position: absolute;width: 1px;}#sk-container-id-1 div.sk-estimator {font-family: monospace;background-color: #f0f8ff;border: 1px dotted black;border-radius: 0.25em;box-sizing: border-box;margin-bottom: 0.5em;}#sk-container-id-1 div.sk-estimator:hover {background-color: #d4ebff;}#sk-container-id-1 div.sk-parallel-item::after {content: \"\";width: 100%;border-bottom: 1px solid gray;flex-grow: 1;}#sk-container-id-1 div.sk-label:hover label.sk-toggleable__label {background-color: #d4ebff;}#sk-container-id-1 div.sk-serial::before {content: \"\";position: absolute;border-left: 1px solid gray;box-sizing: border-box;top: 0;bottom: 0;left: 50%;z-index: 0;}#sk-container-id-1 div.sk-serial {display: flex;flex-direction: column;align-items: center;background-color: white;padding-right: 0.2em;padding-left: 0.2em;position: relative;}#sk-container-id-1 div.sk-item {position: relative;z-index: 1;}#sk-container-id-1 div.sk-parallel {display: flex;align-items: stretch;justify-content: center;background-color: white;position: relative;}#sk-container-id-1 div.sk-item::before, #sk-container-id-1 div.sk-parallel-item::before {content: \"\";position: absolute;border-left: 1px solid gray;box-sizing: border-box;top: 0;bottom: 0;left: 50%;z-index: -1;}#sk-container-id-1 div.sk-parallel-item {display: flex;flex-direction: column;z-index: 1;position: relative;background-color: white;}#sk-container-id-1 div.sk-parallel-item:first-child::after {align-self: flex-end;width: 50%;}#sk-container-id-1 div.sk-parallel-item:last-child::after {align-self: flex-start;width: 50%;}#sk-container-id-1 div.sk-parallel-item:only-child::after {width: 0;}#sk-container-id-1 div.sk-dashed-wrapped {border: 1px dashed gray;margin: 0 0.4em 0.5em 0.4em;box-sizing: border-box;padding-bottom: 0.4em;background-color: white;}#sk-container-id-1 div.sk-label label {font-family: monospace;font-weight: bold;display: inline-block;line-height: 1.2em;}#sk-container-id-1 div.sk-label-container {text-align: center;}#sk-container-id-1 div.sk-container {/* jupyter's `normalize.less` sets `[hidden] { display: none; }` but bootstrap.min.css set `[hidden] { display: none !important; }` so we also need the `!important` here to be able to override the default hidden behavior on the sphinx rendered scikit-learn.org. See: https://github.com/scikit-learn/scikit-learn/issues/21755 */display: inline-block !important;position: relative;}#sk-container-id-1 div.sk-text-repr-fallback {display: none;}</style><div id=\"sk-container-id-1\" class=\"sk-top-container\"><div class=\"sk-text-repr-fallback\"><pre>GradientBoostingClassifier(min_samples_split=3, n_estimators=200,\n",
       "                           random_state=42)</pre><b>In a Jupyter environment, please rerun this cell to show the HTML representation or trust the notebook. <br />On GitHub, the HTML representation is unable to render, please try loading this page with nbviewer.org.</b></div><div class=\"sk-container\" hidden><div class=\"sk-item\"><div class=\"sk-estimator sk-toggleable\"><input class=\"sk-toggleable__control sk-hidden--visually\" id=\"sk-estimator-id-1\" type=\"checkbox\" checked><label for=\"sk-estimator-id-1\" class=\"sk-toggleable__label sk-toggleable__label-arrow\">GradientBoostingClassifier</label><div class=\"sk-toggleable__content\"><pre>GradientBoostingClassifier(min_samples_split=3, n_estimators=200,\n",
       "                           random_state=42)</pre></div></div></div></div></div>"
      ],
      "text/plain": [
       "GradientBoostingClassifier(min_samples_split=3, n_estimators=200,\n",
       "                           random_state=42)"
      ]
     },
     "execution_count": 37,
     "metadata": {},
     "output_type": "execute_result"
    }
   ],
   "source": [
    "\n",
    "X = np.append(X_train,X_test,axis=0)\n",
    "Y = np.append(Y_train,Y_test)\n",
    "\n",
    "classifier = GradientBoostingClassifier(n_estimators=200, min_samples_split=3, random_state=42)\n",
    "classifier.fit(X,Y)\n",
    "\n"
   ]
  },
  {
   "cell_type": "markdown",
   "metadata": {},
   "source": [
    "### Last step: predictions of our model on a dataset without target labels"
   ]
  },
  {
   "cell_type": "code",
   "execution_count": 38,
   "metadata": {},
   "outputs": [
    {
     "name": "stdout",
     "output_type": "stream",
     "text": [
      "Prediction set (without labels) : (31620, 5)\n"
     ]
    }
   ],
   "source": [
    "# Read data without labels\n",
    "data_without_labels = pd.read_csv('src/conversion_data_test.csv')\n",
    "print('Prediction set (without labels) :', data_without_labels.shape)\n",
    "\n",
    "# Apply our preprocessing \n",
    "data_without_labels['age_X_total_pages_visit'] = data_without_labels['age'] * data_without_labels['total_pages_visited']\n",
    "\n",
    "X_without_labels = data_without_labels.loc[:, features_list]"
   ]
  },
  {
   "cell_type": "code",
   "execution_count": 39,
   "metadata": {},
   "outputs": [
    {
     "name": "stdout",
     "output_type": "stream",
     "text": [
      "Encoding categorical features and standardizing numerical features...\n",
      "...Done\n",
      "[[-0.30412454  3.32563947  2.8040672   0.          1.          0.\n",
      "   0.          0.          1.        ]\n",
      " [-1.04409044  0.03686198 -0.34782899  0.          1.          0.\n",
      "   1.          1.          0.        ]\n",
      " [ 0.18918606 -1.15905711 -1.07518966  0.          0.          0.\n",
      "   1.          0.          1.        ]\n",
      " [ 0.18918606  0.33584175  0.41683221  0.          0.          1.\n",
      "   1.          0.          0.        ]\n",
      " [-0.67410749 -0.56109756 -0.67420878  0.          0.          0.\n",
      "   0.          0.          1.        ]]\n"
     ]
    }
   ],
   "source": [
    "# Encoding categorical and numerical features\n",
    "print(\"Encoding categorical features and standardizing numerical features...\")\n",
    "X_without_labels = preprocessor.transform(X_without_labels)\n",
    "print(\"...Done\")\n",
    "print(X_without_labels[0:5,:])\n"
   ]
  },
  {
   "cell_type": "markdown",
   "metadata": {},
   "source": [
    "### Making predictions and dumping to file, according to the goals of this project:\n",
    "- our file is a 'CSV file' with one column named 'converted' and no index\n",
    "- our file must have format : 'conversion_data_test_predictions_[name].csv'\n",
    "- where [name] is the name of our team/model separated by a '-'\n",
    "- in this case : [name] = ChristopheD-finalmodel"
   ]
  },
  {
   "cell_type": "code",
   "execution_count": 40,
   "metadata": {},
   "outputs": [],
   "source": [
    "# Making predictions and dumping to file\n",
    "data = {\n",
    "    'converted': classifier.predict(X_without_labels)\n",
    "}\n",
    "\n",
    "Y_predictions = pd.DataFrame(columns=['converted'],data=data)\n",
    "Y_predictions.to_csv('conversion_data_test_predictions_ChristopheD-finalmodel.csv', index=False)\n",
    "\n"
   ]
  },
  {
   "cell_type": "markdown",
   "metadata": {},
   "source": [
    "### My conclusion is, if I had to go further on this project, I would:\n",
    "\n",
    "- test others models, the first would be XGBoost\n",
    "- Improve my feature engineering: New user column has a good correlation with the target,\n",
    "is there a way to realize feature engineering from these data?\n",
    "- Try over-sampling to fight against imbalanced data\n"
   ]
  }
 ],
 "metadata": {
  "kernelspec": {
   "display_name": "Python 3.9.3 64-bit",
   "language": "python",
   "name": "python3"
  },
  "language_info": {
   "codemirror_mode": {
    "name": "ipython",
    "version": 3
   },
   "file_extension": ".py",
   "mimetype": "text/x-python",
   "name": "python",
   "nbconvert_exporter": "python",
   "pygments_lexer": "ipython3",
   "version": "3.9.3 (tags/v3.9.3:e723086, Apr  2 2021, 11:35:20) [MSC v.1928 64 bit (AMD64)]"
  },
  "orig_nbformat": 4,
  "vscode": {
   "interpreter": {
    "hash": "5a1ee337b682cd95343797d80150fd2bd6ab72b1f35807bec9bb1f0b7fb0c443"
   }
  }
 },
 "nbformat": 4,
 "nbformat_minor": 2
}
